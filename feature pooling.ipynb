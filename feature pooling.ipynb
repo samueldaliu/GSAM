{
 "cells": [
  {
   "cell_type": "code",
   "execution_count": 62,
   "metadata": {},
   "outputs": [],
   "source": [
    "#Contextual Feature Representation with Fixed Length\n",
    "import jsonlines\n",
    "import numpy as np\n",
    "\n",
    "with open('/home/zju/xlc/bert/bert-master/output1.jsonl', 'r', encoding='utf-8') as f, open('/home/zju/xlc/bert/bert-master/poolingOutput.tsv', 'w', encoding='utf-8') as ff:\n",
    "    loadContent = []\n",
    "    for loadContent in jsonlines.Reader(f):     \n",
    "        arr = []\n",
    "        num = -1    \n",
    "        for i in loadContent['features']:\n",
    "            num += 1\n",
    "            arr.append(np.zeros((1,768)))\n",
    "            for j in i['layers']:\n",
    "                arr[num] = np.sum([arr[num],j['values']], axis = 0)   \n",
    "        meanPool = np.mean(np.array(arr), axis=0)\n",
    "        maxPool = np.max(np.array(arr), axis=0)\n",
    "        poolResult = meanPool + maxPool\n",
    "        ff.write(str(poolResult) + '\\n')\n"
   ]
  }
 ],
 "metadata": {
  "kernelspec": {
   "display_name": "Python 3",
   "language": "python",
   "name": "python3"
  },
  "language_info": {
   "codemirror_mode": {
    "name": "ipython",
    "version": 3
   },
   "file_extension": ".py",
   "mimetype": "text/x-python",
   "name": "python",
   "nbconvert_exporter": "python",
   "pygments_lexer": "ipython3",
   "version": "3.6.4"
  }
 },
 "nbformat": 4,
 "nbformat_minor": 2
}
